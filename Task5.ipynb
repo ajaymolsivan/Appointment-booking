{
  "nbformat": 4,
  "nbformat_minor": 0,
  "metadata": {
    "colab": {
      "provenance": [],
      "authorship_tag": "ABX9TyPK9y/eWZJmnio4TttvkSF7",
      "include_colab_link": true
    },
    "kernelspec": {
      "name": "python3",
      "display_name": "Python 3"
    },
    "language_info": {
      "name": "python"
    }
  },
  "cells": [
    {
      "cell_type": "markdown",
      "metadata": {
        "id": "view-in-github",
        "colab_type": "text"
      },
      "source": [
        "<a href=\"https://colab.research.google.com/github/ajaymolsivan/Appointment-booking/blob/main/Task5.ipynb\" target=\"_parent\"><img src=\"https://colab.research.google.com/assets/colab-badge.svg\" alt=\"Open In Colab\"/></a>"
      ]
    },
    {
      "cell_type": "code",
      "execution_count": null,
      "metadata": {
        "id": "O7DYfFX7mf0h"
      },
      "outputs": [],
      "source": [
        "# Exploratory Data Analysis (EDA) Template\n",
        "\n",
        "# 1. Import Libraries\n",
        "import pandas as pd\n",
        "import numpy as np\n",
        "import matplotlib.pyplot as plt\n",
        "import seaborn as sns\n",
        "\n",
        "# Set plot styles\n",
        "sns.set(style='whitegrid')\n",
        "\n",
        "# 2. Load Dataset\n",
        "df = pd.read_csv('your_dataset.csv')  # Change filename\n",
        "\n",
        "# 3. Dataset Overview\n",
        "print(\"First 5 rows:\")\n",
        "print(df.head())\n",
        "\n",
        "print(\"\\nDataset Info:\")\n",
        "df.info()\n",
        "\n",
        "print(\"\\nSummary Statistics:\")\n",
        "print(df.describe())\n",
        "\n",
        "print(\"\\nMissing Values:\")\n",
        "print(df.isnull().sum())\n",
        "\n",
        "# 4. Univariate Analysis\n",
        "## Numerical Features\n",
        "num_cols = df.select_dtypes(include=np.number).columns.tolist()\n",
        "for col in num_cols:\n",
        "    plt.figure(figsize=(6, 4))\n",
        "    sns.histplot(df[col], kde=True)\n",
        "    plt.title(f'Distribution of {col}')\n",
        "    plt.show()\n",
        "\n",
        "    sns.boxplot(x=df[col])\n",
        "    plt.title(f'Boxplot of {col}')\n",
        "    plt.show()\n",
        "\n",
        "## Categorical Features\n",
        "cat_cols = df.select_dtypes(include='object').columns.tolist()\n",
        "for col in cat_cols:\n",
        "    plt.figure(figsize=(6, 4))\n",
        "    df[col].value_counts().plot(kind='bar')\n",
        "    plt.title(f'Value Counts of {col}')\n",
        "    plt.xticks(rotation=45)\n",
        "    plt.show()\n",
        "\n",
        "# 5. Bivariate Analysis\n",
        "## Correlation Heatmap\n",
        "plt.figure(figsize=(10, 8))\n",
        "corr_matrix = df.corr(numeric_only=True)\n",
        "sns.heatmap(corr_matrix, annot=True, cmap='coolwarm', fmt='.2f')\n",
        "plt.title('Correlation Matrix')\n",
        "plt.show()\n",
        "\n",
        "## Pairplot\n",
        "# sns.pairplot(df[num_cols + ['target_column']], hue='target_column')  # Uncomment and adjust if needed\n",
        "\n",
        "## Scatterplot Example\n",
        "# sns.scatterplot(x='feature1', y='feature2', hue='target', data=df)\n",
        "\n",
        "# 6. Summary of Findings\n",
        "# Use Markdown or text cells to summarize insights\n",
        "# - Which variables are correlated?\n",
        "# - Any data quality issues?\n",
        "# - Distribution skewness or outliers?\n",
        "\n",
        "# 7. Save Notebook as PDF (optional)\n",
        "# Use File > Download as > PDF via LaTeX in Jupyter Notebook UI\n"
      ]
    }
  ]
}